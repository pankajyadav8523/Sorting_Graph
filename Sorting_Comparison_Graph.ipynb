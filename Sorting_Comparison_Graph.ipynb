{
  "nbformat": 4,
  "nbformat_minor": 0,
  "metadata": {
    "colab": {
      "provenance": [],
      "authorship_tag": "ABX9TyPsh1rJcNS0PXk/uLbppqsc",
      "include_colab_link": true
    },
    "kernelspec": {
      "name": "python3",
      "display_name": "Python 3"
    },
    "language_info": {
      "name": "python"
    }
  },
  "cells": [
    {
      "cell_type": "markdown",
      "metadata": {
        "id": "view-in-github",
        "colab_type": "text"
      },
      "source": [
        "<a href=\"https://colab.research.google.com/github/pankajyadav8569/Sorting_Graph/blob/main/Sorting_Comparison_Graph.ipynb\" target=\"_parent\"><img src=\"https://colab.research.google.com/assets/colab-badge.svg\" alt=\"Open In Colab\"/></a>"
      ]
    },
    {
      "cell_type": "code",
      "source": [
        "import matplotlib.pyplot as plt\n",
        "import random "
      ],
      "metadata": {
        "id": "3czQA2XX2t0t"
      },
      "execution_count": 1,
      "outputs": []
    },
    {
      "cell_type": "code",
      "source": [
        "input_length = [i for i in range(10, 110, 10)]"
      ],
      "metadata": {
        "id": "4WQ1NKEr2vO1"
      },
      "execution_count": 2,
      "outputs": []
    },
    {
      "cell_type": "code",
      "source": [
        "# Selection sort\n",
        "\n",
        "swap_count = 0\n",
        "comparison_count = 0\n",
        "\n",
        "def selectionSort(data):\n",
        "  i = 0\n",
        "  while i < len(data) - 1:\n",
        "    swap(i, _min_index(i, data), data)\n",
        "\t\t# print(f'Outer loop {i} output:', data)\n",
        "    i += 1\n",
        "\n",
        "\n",
        "def swap(index1, index2, data):\n",
        "  global swap_count\n",
        "  swap_count += 1\n",
        "  initial = data[index1]\n",
        "  data[index1] = data[index2]\n",
        "  data[index2] = initial\n",
        "\n",
        "def _min_index(index1, data):\n",
        "  global comparison_count\n",
        "  mini = index1\n",
        "  for index in range(index1 + 1, len(data)):\n",
        "    comparison_count += 1\n",
        "    if data[index] < data[mini]:\n",
        "      mini = index\n",
        "\t\t\t# print(f'Inner loop {index} output:', data)\n",
        "  return mini\n",
        "\n",
        "comp = []\n",
        "y_selection = []\n",
        "for j in range(10, 110, 10):\n",
        "  for _ in range(3):\n",
        "    data = random.sample(range(1, 200), j)\n",
        "    selectionSort(data)\n",
        "    comp.append(comparison_count)\n",
        "  y_selection.append(sum(comp)/3)\n",
        "  comparison_count = 0\n",
        "  comp = []\n",
        "print(y_selection)"
      ],
      "metadata": {
        "colab": {
          "base_uri": "https://localhost:8080/"
        },
        "id": "rXORY8_j2zGu",
        "outputId": "45f3d3e2-2742-4370-d511-4d61831d7529"
      },
      "execution_count": 3,
      "outputs": [
        {
          "output_type": "stream",
          "name": "stdout",
          "text": [
            "[90.0, 380.0, 870.0, 1560.0, 2450.0, 3540.0, 4830.0, 6320.0, 8010.0, 9900.0]\n"
          ]
        }
      ]
    },
    {
      "cell_type": "code",
      "source": [
        "# This module provide different method of sorting\n",
        "# Introduce about time complexity\n",
        "\n",
        "# Partition of array\n",
        "\n",
        "partition_count = 0\n",
        "swap_count = 0\n",
        "comparison_count = 0\n",
        "\n",
        "def swap(data, index1, index2):\n",
        "\tglobal swap_count\n",
        "\tswap_count += 1\n",
        "\ttemp = data[index1]\n",
        "\tdata[index1] = data[index2]\n",
        "\tdata[index2] = temp\n",
        "\n",
        "def partition(data, h, k):\n",
        "\tglobal partition_count\n",
        "\t# global swap_count\n",
        "\tglobal comparison_count\n",
        "\tpartition_count += 1\n",
        "\ti = h\n",
        "\tj = k+1\n",
        "\tx = data[h]\n",
        "\twhile i < (j-1):\n",
        "\t\tcomparison_count += 1\t\t\t\t\t\t\t\t\t\t\t\t\t\t\t\t\t\n",
        "\t\t\n",
        "\t\tif data[i+1] >= x:\n",
        "\t\t\tswap(data,i+1,j-1)\n",
        "\t\t\t# swap_count += 1\n",
        "\t\t\tj = j - 1\n",
        "\t\telse:\n",
        "\t\t\tswap(data,i,i+1)\n",
        "\t\t\t# swap_count +=1\n",
        "\t\t\ti = i + 1\n",
        "\n",
        "\treturn i\n",
        "\n",
        "# Quicksort\n",
        "def quick_sort(data, h, k):\n",
        "\tif (k-h)<2:\n",
        "\t\treturn \n",
        "\tj = partition(data, h, k)\n",
        "\tquick_sort(data,h,j-1)\n",
        "\tquick_sort(data,j+1,k)\n",
        " \n",
        "y_quick = []\n",
        "comp = []\n",
        "for j in range(10, 110, 10):\n",
        "\t\n",
        "\tfor _ in range(3):\n",
        "\t\tdata = random.sample(range(1, 200), j)\n",
        "\t\tquick_sort(data, 0, len(data)-1)\n",
        "\t\tcomp.append(comparison_count)\n",
        "\ty_quick.append(sum(comp)/3)\n",
        "\tcomp = []\n",
        "\tcomparison_count = 0\n",
        "print(y_quick)\n",
        "   "
      ],
      "metadata": {
        "colab": {
          "base_uri": "https://localhost:8080/"
        },
        "id": "2HEkWx7k22Zg",
        "outputId": "bbd34bf3-7364-49c7-8acd-16c6210507ba"
      },
      "execution_count": 4,
      "outputs": [
        {
          "output_type": "stream",
          "name": "stdout",
          "text": [
            "[49.666666666666664, 137.0, 226.33333333333334, 339.3333333333333, 497.3333333333333, 636.3333333333334, 767.0, 899.6666666666666, 1134.6666666666667, 1179.3333333333333]\n"
          ]
        }
      ]
    },
    {
      "cell_type": "code",
      "source": [
        "# Insertion sort\n",
        "\n",
        "\n",
        "comparison_count = 0\n",
        "swap_count = 0\n",
        "\n",
        "def push_down(data,i):\n",
        "  global comparison_count\n",
        "  j = i\n",
        "  comparison_count += 1\n",
        "  while j > 0 and data[j-1] > data[j]:\n",
        "    swap(j - 1, j, data)\n",
        "    j = j - 1\n",
        "\n",
        "def sort(data):\n",
        "  i = 1\n",
        "  while i < len(data):\n",
        "    push_down(data,i)\n",
        "    i = i+1\n",
        "\n",
        "def swap(index1, index2, data):\n",
        "\tglobal swap_count\n",
        "\tswap_count += 1\n",
        "\tinitial = data[index1]\n",
        "\tdata[index1] = data[index2]\n",
        "\tdata[index2] = initial\n",
        "\n",
        "y_insert = []\n",
        "comp = []\n",
        "\n",
        "for j in range(10, 110, 10):\n",
        "\t\n",
        "\tfor _ in range(3):\n",
        "\t\tdata = random.sample(range(1, 200), j)\n",
        "\t\tsort(data)\n",
        "\t\tcomp.append(comparison_count)\n",
        "\t\t\n",
        "\ty_insert.append(sum(comp)/3)\n",
        "\tcomp = []\n",
        "\tcomparison_count = 0\n",
        "print(y_insert)\n"
      ],
      "metadata": {
        "colab": {
          "base_uri": "https://localhost:8080/"
        },
        "id": "BexgtVo426oh",
        "outputId": "fd3862da-371e-4145-b957-a337a3d3551f"
      },
      "execution_count": 5,
      "outputs": [
        {
          "output_type": "stream",
          "name": "stdout",
          "text": [
            "[18.0, 38.0, 58.0, 78.0, 98.0, 118.0, 138.0, 158.0, 178.0, 198.0]\n"
          ]
        }
      ]
    },
    {
      "cell_type": "code",
      "source": [
        "plt.plot(input_length, y_quick, label = \"quick_sort\")\n",
        "plt.legend()\n",
        "plt.plot(input_length, y_selection, label = \"selection_sort\")\n",
        "plt.legend()\n",
        "plt.plot(input_length, y_insert, label = \"insertion_sort\")\n",
        "plt.legend()\n"
      ],
      "metadata": {
        "colab": {
          "base_uri": "https://localhost:8080/",
          "height": 447
        },
        "id": "9Itzqj9s29rX",
        "outputId": "52621dce-f9d1-411b-b154-874cd1f9cd76"
      },
      "execution_count": 6,
      "outputs": [
        {
          "output_type": "execute_result",
          "data": {
            "text/plain": [
              "<matplotlib.legend.Legend at 0x7f06235ba200>"
            ]
          },
          "metadata": {},
          "execution_count": 6
        },
        {
          "output_type": "display_data",
          "data": {
            "text/plain": [
              "<Figure size 640x480 with 1 Axes>"
            ],
            "image/png": "[encoded data removed]"
          },
          "metadata": {}
        }
      ]
    }
  ]
}