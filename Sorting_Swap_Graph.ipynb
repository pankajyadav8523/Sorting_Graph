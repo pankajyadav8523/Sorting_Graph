{
  "nbformat": 4,
  "nbformat_minor": 0,
  "metadata": {
    "colab": {
      "provenance": [],
      "authorship_tag": "ABX9TyOEqsnO2u1OGJ9hwzGtCU9y",
      "include_colab_link": true
    },
    "kernelspec": {
      "name": "python3",
      "display_name": "Python 3"
    },
    "language_info": {
      "name": "python"
    }
  },
  "cells": [
    {
      "cell_type": "markdown",
      "metadata": {
        "id": "view-in-github",
        "colab_type": "text"
      },
      "source": [
        "<a href=\"https://colab.research.google.com/github/pankajyadav8569/Sorting_Graph/blob/main/Sorting_Swap_Graph.ipynb\" target=\"_parent\"><img src=\"https://colab.research.google.com/assets/colab-badge.svg\" alt=\"Open In Colab\"/></a>"
      ]
    },
    {
      "cell_type": "code",
      "execution_count": null,
      "metadata": {
        "id": "viYd6071OcCs"
      },
      "outputs": [],
      "source": [
        "import matplotlib.pyplot as plt\n",
        "import random "
      ]
    },
    {
      "cell_type": "code",
      "source": [
        "input_length = [i for i in range(10, 110, 10)]"
      ],
      "metadata": {
        "id": "O8-kqicmOr2R"
      },
      "execution_count": null,
      "outputs": []
    },
    {
      "cell_type": "code",
      "source": [
        "# Selection sort\n",
        "swap_count = 0\n",
        "def selectionSort(data):\n",
        "  i = 0\n",
        "  while i < len(data) - 1:\n",
        "    swap(i, _min_index(i, data), data)\n",
        "    i += 1\n",
        "\n",
        "def swap(index1, index2, data):\n",
        "  global swap_count\n",
        "  swap_count += 1\n",
        "  initial = data[index1]\n",
        "  data[index1] = data[index2]\n",
        "  data[index2] = initial\n",
        "\n",
        "def _min_index(index1, data):\n",
        "  mini = index1\n",
        "  for index in range(index1 + 1, len(data)):\n",
        "    if data[index] < data[mini]:\n",
        "      mini = index\n",
        "  return mini\n",
        "\n",
        "_swap = []\n",
        "y_selection = []\n",
        "for j in range(10, 110, 10):\n",
        "  for _ in range(3):\n",
        "    data = random.sample(range(1, 200), j)\n",
        "    selectionSort(data)\n",
        "    _swap.append(swap_count)\n",
        "  y_selection.append(sum(_swap)/3)\n",
        "  _swap = []\n",
        "print(y_selection)"
      ],
      "metadata": {
        "colab": {
          "base_uri": "https://localhost:8080/"
        },
        "id": "hMMY8EjROxZi",
        "outputId": "28701d4f-6988-4871-b318-95269c6a3d0c"
      },
      "execution_count": 18,
      "outputs": [
        {
          "output_type": "stream",
          "name": "stdout",
          "text": [
            "[18.0, 65.0, 142.0, 249.0, 386.0, 553.0, 750.0, 977.0, 1234.0, 1521.0]\n"
          ]
        }
      ]
    },
    {
      "cell_type": "code",
      "source": [
        "# This module provide different method of sorting\n",
        "# Introduce about time complexity\n",
        "\n",
        "# Partition of array\n",
        "\n",
        "partition_count = 0\n",
        "swap_count = 0\n",
        "comparison_count = 0\n",
        "\n",
        "def swap(data, index1, index2):\n",
        "\tglobal swap_count\n",
        "\tswap_count += 1\n",
        "\ttemp = data[index1]\n",
        "\tdata[index1] = data[index2]\n",
        "\tdata[index2] = temp\n",
        "\n",
        "def partition(data, h, k):\n",
        "\ti = h\n",
        "\tj = k+1\n",
        "\tx = data[h]\n",
        "\twhile i < (j-1):\n",
        "\t\tif data[i+1] >= x:\n",
        "\t\t\tswap(data,i+1,j-1)\n",
        "\t\t\t\n",
        "\t\t\tj = j - 1\n",
        "\t\telse:\n",
        "\t\t\tswap(data,i,i+1)\n",
        "\t\t\t\n",
        "\t\t\ti = i + 1\n",
        "\n",
        "\treturn i\n",
        "\n",
        "# Quicksort\n",
        "def quick_sort(data, h, k):\n",
        "\tif (k-h)<2:\n",
        "\t\treturn \n",
        "\tj = partition(data, h, k)\n",
        "\tquick_sort(data,h,j-1)\n",
        "\tquick_sort(data,j+1,k)\n",
        " \n",
        "y_quick = []\n",
        "_swap = []\n",
        "for j in range(10, 110, 10):\n",
        "\tfor _ in range(3):\n",
        "\t\tdata = random.sample(range(1, 200), j)\n",
        "\t\tquick_sort(data, 0, len(data)-1)\n",
        "\t\t_swap.append(swap_count)\n",
        "\ty_quick.append(sum(_swap)/3)\n",
        "\t_swap = []\n",
        "print(y_quick)\n",
        "   "
      ],
      "metadata": {
        "colab": {
          "base_uri": "https://localhost:8080/"
        },
        "id": "7WC-gmyjkjcj",
        "outputId": "2d3f8d63-9f95-41cc-c42d-01562c2ee201"
      },
      "execution_count": 19,
      "outputs": [
        {
          "output_type": "stream",
          "name": "stdout",
          "text": [
            "[48.666666666666664, 205.66666666666666, 543.0, 1008.0, 1694.3333333333333, 2571.6666666666665, 3640.6666666666665, 4895.666666666667, 6467.0, 8239.333333333334]\n"
          ]
        }
      ]
    },
    {
      "cell_type": "code",
      "source": [
        "# Insertion sort\n",
        "swap_count = 0\n",
        "\n",
        "def push_down(data,i):\n",
        "  j = i\n",
        "  while j > 0 and data[j-1] > data[j]:\n",
        "    swap(j - 1, j, data)\n",
        "    j = j - 1\n",
        "\n",
        "def Insertion_sort(data):\n",
        "  i = 1\n",
        "  while i < len(data):\n",
        "    push_down(data,i)\n",
        "    i = i+1\n",
        "\n",
        "def swap(index1, index2, data):\n",
        "\tglobal swap_count\n",
        "\tswap_count += 1\n",
        "\tinitial = data[index1]\n",
        "\tdata[index1] = data[index2]\n",
        "\tdata[index2] = initial\n",
        "\n",
        "y_insert = []\n",
        "_swap = []\n",
        "\n",
        "for j in range(10, 110, 10):\n",
        "\tfor _ in range(3):\n",
        "\t\tdata = random.sample(range(1, 200), j)\n",
        "\t\tInsertion_sort(data)\n",
        "\t\t_swap.append(swap_count)\n",
        "\t\t\n",
        "\ty_insert.append(sum(_swap)/3)\n",
        "\t_swap = []\n",
        "print(y_insert)\n"
      ],
      "metadata": {
        "colab": {
          "base_uri": "https://localhost:8080/"
        },
        "id": "ARdyVQ0hmAdd",
        "outputId": "eadf6d46-ceda-4754-a0f5-d42d7c33ece0"
      },
      "execution_count": 20,
      "outputs": [
        {
          "output_type": "stream",
          "name": "stdout",
          "text": [
            "[56.0, 249.66666666666666, 811.6666666666666, 1825.6666666666667, 3483.6666666666665, 6051.0, 9222.0, 13306.0, 19107.333333333332, 26170.333333333332]\n"
          ]
        }
      ]
    },
    {
      "cell_type": "code",
      "source": [
        "plt.plot(input_length, y_quick, label = \"quick_sort\")\n",
        "plt.legend()\n",
        "plt.plot(input_length, y_selection, label = \"selection_sort\")\n",
        "plt.legend()\n",
        "plt.plot(input_length, y_insert, label = \"insertion_sort\")\n",
        "plt.legend()\n"
      ],
      "metadata": {
        "colab": {
          "base_uri": "https://localhost:8080/",
          "height": 447
        },
        "id": "6gA70mFymmZ-",
        "outputId": "648591df-c6bf-4b50-ba95-eef26f78b998"
      },
      "execution_count": 21,
      "outputs": [
        {
          "output_type": "execute_result",
          "data": {
            "text/plain": [
              "<matplotlib.legend.Legend at 0x7f0a713b3850>"
            ]
          },
          "metadata": {},
          "execution_count": 21
        },
        {
          "output_type": "display_data",
          "data": {
            "text/plain": [
              "<Figure size 640x480 with 1 Axes>"
            ],
            "image/png": "[encoded data removed]"
          },
          "metadata": {}
        }
      ]
    }
  ]
}