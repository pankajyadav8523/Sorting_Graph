{
  "nbformat": 4,
  "nbformat_minor": 0,
  "metadata": {
    "colab": {
      "provenance": [],
      "authorship_tag": "ABX9TyNo/tyySKAybPAjg5qcssH6",
      "include_colab_link": true
    },
    "kernelspec": {
      "name": "python3",
      "display_name": "Python 3"
    },
    "language_info": {
      "name": "python"
    }
  },
  "cells": [
    {
      "cell_type": "markdown",
      "metadata": {
        "id": "view-in-github",
        "colab_type": "text"
      },
      "source": [
        "<a href=\"https://colab.research.google.com/github/pankajyadav8569/Sorting_Graph/blob/main/Copy_of_Sorting_Comparison_Graph.ipynb\" target=\"_parent\"><img src=\"https://colab.research.google.com/assets/colab-badge.svg\" alt=\"Open In Colab\"/></a>"
      ]
    },
    {
      "cell_type": "code",
      "source": [
        "import matplotlib.pyplot as plt\n",
        "import random "
      ],
      "metadata": {
        "id": "3czQA2XX2t0t"
      },
      "execution_count": 7,
      "outputs": []
    },
    {
      "cell_type": "code",
      "source": [
        "input_length = [i for i in range(10, 251, 10)]"
      ],
      "metadata": {
        "id": "4WQ1NKEr2vO1"
      },
      "execution_count": 8,
      "outputs": []
    },
    {
      "cell_type": "code",
      "source": [
        "# Selection sort\n",
        "\n",
        "swap_count = 0\n",
        "comparison_count = 0\n",
        "\n",
        "def selectionSort(data):\n",
        "  i = 0\n",
        "  while i < len(data) - 1:\n",
        "    swap(i, _min_index(i, data), data)\n",
        "\t\t# print(f'Outer loop {i} output:', data)\n",
        "    i += 1\n",
        "\n",
        "\n",
        "def swap(index1, index2, data):\n",
        "  global swap_count\n",
        "  swap_count += 1\n",
        "  initial = data[index1]\n",
        "  data[index1] = data[index2]\n",
        "  data[index2] = initial\n",
        "\n",
        "def _min_index(index1, data):\n",
        "  global comparison_count\n",
        "  mini = index1\n",
        "  for index in range(index1 + 1, len(data)):\n",
        "    comparison_count += 1\n",
        "    if data[index] < data[mini]:\n",
        "      mini = index\n",
        "\t\t\t# print(f'Inner loop {index} output:', data)\n",
        "  return mini\n",
        "\n",
        "comp = []\n",
        "y_selection = []\n",
        "for j in range(10, 251, 10):\n",
        "  for _ in range(3):\n",
        "    data = random.sample(range(1, 300), j)\n",
        "    selectionSort(data)\n",
        "    comp.append(comparison_count)\n",
        "  y_selection.append(sum(comp)/3)\n",
        "  comparison_count = 0\n",
        "  comp = []\n",
        "print(y_selection)"
      ],
      "metadata": {
        "colab": {
          "base_uri": "https://localhost:8080/"
        },
        "id": "rXORY8_j2zGu",
        "outputId": "db0a966c-5b29-40aa-99ff-e96c7575333b"
      },
      "execution_count": 10,
      "outputs": [
        {
          "output_type": "stream",
          "name": "stdout",
          "text": [
            "[90.0, 380.0, 870.0, 1560.0, 2450.0, 3540.0, 4830.0, 6320.0, 8010.0, 9900.0, 11990.0, 14280.0, 16770.0, 19460.0, 22350.0, 25440.0, 28730.0, 32220.0, 35910.0, 39800.0, 43890.0, 48180.0, 52670.0, 57360.0, 62250.0]\n"
          ]
        }
      ]
    },
    {
      "cell_type": "code",
      "source": [
        "# This module provide different method of sorting\n",
        "# Introduce about time complexity\n",
        "\n",
        "# Partition of array\n",
        "\n",
        "partition_count = 0\n",
        "swap_count = 0\n",
        "comparison_count = 0\n",
        "\n",
        "def swap(data, index1, index2):\n",
        "\tglobal swap_count\n",
        "\tswap_count += 1\n",
        "\ttemp = data[index1]\n",
        "\tdata[index1] = data[index2]\n",
        "\tdata[index2] = temp\n",
        "\n",
        "def partition(data, h, k):\n",
        "\tglobal partition_count\n",
        "\t# global swap_count\n",
        "\tglobal comparison_count\n",
        "\tpartition_count += 1\n",
        "\ti = h\n",
        "\tj = k+1\n",
        "\tx = data[h]\n",
        "\twhile i < (j-1):\n",
        "\t\tcomparison_count += 1\t\t\t\t\t\t\t\t\t\t\t\t\t\t\t\t\t\n",
        "\t\t\n",
        "\t\tif data[i+1] >= x:\n",
        "\t\t\tswap(data,i+1,j-1)\n",
        "\t\t\t# swap_count += 1\n",
        "\t\t\tj = j - 1\n",
        "\t\telse:\n",
        "\t\t\tswap(data,i,i+1)\n",
        "\t\t\t# swap_count +=1\n",
        "\t\t\ti = i + 1\n",
        "\n",
        "\treturn i\n",
        "\n",
        "# Quicksort\n",
        "def quick_sort(data, h, k):\n",
        "\tif (k-h)<2:\n",
        "\t\treturn \n",
        "\tj = partition(data, h, k)\n",
        "\tquick_sort(data,h,j-1)\n",
        "\tquick_sort(data,j+1,k)\n",
        " \n",
        "y_quick = []\n",
        "comp = []\n",
        "for j in range(10, 251, 10):\n",
        "\t\n",
        "\tfor _ in range(3):\n",
        "\t\tdata = random.sample(range(1, 300), j)\n",
        "\t\tquick_sort(data, 0, len(data)-1)\n",
        "\t\tcomp.append(comparison_count)\n",
        "\ty_quick.append(sum(comp)/3)\n",
        "\tcomp = []\n",
        "\tcomparison_count = 0\n",
        "print(y_quick)\n",
        "   "
      ],
      "metadata": {
        "colab": {
          "base_uri": "https://localhost:8080/"
        },
        "id": "2HEkWx7k22Zg",
        "outputId": "3a00f7ff-c591-48ff-c45a-6b9e93ea5766"
      },
      "execution_count": 11,
      "outputs": [
        {
          "output_type": "stream",
          "name": "stdout",
          "text": [
            "[43.0, 130.0, 232.0, 373.0, 490.3333333333333, 575.0, 822.3333333333334, 895.6666666666666, 1050.0, 1286.6666666666667, 1453.6666666666667, 1624.0, 2101.6666666666665, 1905.0, 2083.3333333333335, 2439.0, 2394.3333333333335, 2724.0, 2640.3333333333335, 2849.3333333333335, 3392.6666666666665, 3281.3333333333335, 3640.3333333333335, 3970.3333333333335, 3746.6666666666665]\n"
          ]
        }
      ]
    },
    {
      "cell_type": "code",
      "source": [
        "# Insertion sort\n",
        "\n",
        "\n",
        "comparison_count = 0\n",
        "swap_count = 0\n",
        "\n",
        "def push_down(data,i):\n",
        "  global comparison_count\n",
        "  j = i\n",
        "  comparison_count += 1\n",
        "  while j > 0 and data[j-1] > data[j]:\n",
        "    swap(j - 1, j, data)\n",
        "    j = j - 1\n",
        "\n",
        "def sort(data):\n",
        "  i = 1\n",
        "  while i < len(data):\n",
        "    push_down(data,i)\n",
        "    i = i+1\n",
        "\n",
        "def swap(index1, index2, data):\n",
        "\tglobal swap_count\n",
        "\tswap_count += 1\n",
        "\tinitial = data[index1]\n",
        "\tdata[index1] = data[index2]\n",
        "\tdata[index2] = initial\n",
        "\n",
        "y_insert = []\n",
        "comp = []\n",
        "\n",
        "for j in range(10, 251, 10):\n",
        "\t\n",
        "\tfor _ in range(3):\n",
        "\t\tdata = random.sample(range(1, 300), j)\n",
        "\t\tsort(data)\n",
        "\t\tcomp.append(comparison_count)\n",
        "\t\t\n",
        "\ty_insert.append(sum(comp)/3)\n",
        "\tcomp = []\n",
        "\tcomparison_count = 0\n",
        "print(y_insert)\n"
      ],
      "metadata": {
        "colab": {
          "base_uri": "https://localhost:8080/"
        },
        "id": "BexgtVo426oh",
        "outputId": "d31fd22b-d6f3-4832-c5e4-27e1a624c0a8"
      },
      "execution_count": 12,
      "outputs": [
        {
          "output_type": "stream",
          "name": "stdout",
          "text": [
            "[18.0, 38.0, 58.0, 78.0, 98.0, 118.0, 138.0, 158.0, 178.0, 198.0, 218.0, 238.0, 258.0, 278.0, 298.0, 318.0, 338.0, 358.0, 378.0, 398.0, 418.0, 438.0, 458.0, 478.0, 498.0]\n"
          ]
        }
      ]
    },
    {
      "cell_type": "code",
      "source": [
        "plt.plot(input_length, y_quick, label = \"quick_sort\")\n",
        "plt.legend()\n",
        "plt.plot(input_length, y_selection, label = \"selection_sort\")\n",
        "plt.legend()\n",
        "plt.plot(input_length, y_insert, label = \"insertion_sort\")\n",
        "plt.legend()\n"
      ],
      "metadata": {
        "colab": {
          "base_uri": "https://localhost:8080/",
          "height": 447
        },
        "id": "9Itzqj9s29rX",
        "outputId": "270d8cc6-7346-42dc-f897-ef6f24072c21"
      },
      "execution_count": 13,
      "outputs": [
        {
          "output_type": "execute_result",
          "data": {
            "text/plain": [
              "<matplotlib.legend.Legend at 0x7fee5c4e5930>"
            ]
          },
          "metadata": {},
          "execution_count": 13
        },
        {
          "output_type": "display_data",
          "data": {
            "text/plain": [
              "<Figure size 640x480 with 1 Axes>"
            ],
            "image/png": "[encoded data removed]"
          },
          "metadata": {}
        }
      ]
    }
  ]
}